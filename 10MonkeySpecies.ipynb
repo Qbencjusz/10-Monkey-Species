{
  "nbformat": 4,
  "nbformat_minor": 0,
  "metadata": {
    "colab": {
      "name": "10MonkeySpecies.ipynb",
      "provenance": [],
      "collapsed_sections": []
    },
    "kernelspec": {
      "display_name": "Python 3",
      "language": "python",
      "name": "python3"
    },
    "language_info": {
      "codemirror_mode": {
        "name": "ipython",
        "version": 3
      },
      "file_extension": ".py",
      "mimetype": "text/x-python",
      "name": "python",
      "nbconvert_exporter": "python",
      "pygments_lexer": "ipython3",
      "version": "3.8.5"
    }
  },
  "cells": [
    {
      "cell_type": "markdown",
      "metadata": {
        "id": "781XSS8DXdoX"
      },
      "source": [
        "# 10 Monkey Species"
      ]
    },
    {
      "cell_type": "markdown",
      "metadata": {
        "id": "pcr1P_-kaXty"
      },
      "source": [
        "Jakub Pacierpnik, Kacper Olejak\r\n"
      ]
    },
    {
      "cell_type": "markdown",
      "metadata": {
        "id": "rje1O1RIpmtQ"
      },
      "source": [
        "## Introduction\r\n",
        "This notebook provides classifier model for 10 monkey species using [dataset from kaggle](https://www.kaggle.com/slothkong/10-monkey-species).\r\n",
        "\r\n",
        "We created solution based on transfer learning approach, using pretrained VGG16 model for feature extraction and traditional machine learning techniques for image classification.\r\n",
        "\r\n",
        "\r\n",
        "At the beginning of each piece of our solution, we will explain you our ideas and how we used the tools, mentioned as headings.\r\n",
        "\r\n"
      ]
    },
    {
      "cell_type": "markdown",
      "metadata": {
        "id": "ZjBqOOd6XkvJ"
      },
      "source": [
        "## Imports and downloading dataset\r\n",
        "Our team decided to use [Keras](https://keras.io/) for Deep Learning stuff and [scikit-learn](https://scikit-learn.org/stable/) which provides some standard Machine Learning methods."
      ]
    },
    {
      "cell_type": "code",
      "metadata": {
        "id": "eCtgNyEOc8us"
      },
      "source": [
        "from tensorflow.keras.applications.vgg16 import VGG16\r\n",
        "from tensorflow.keras.preprocessing import image\r\n",
        "from tensorflow.keras.applications.vgg16 import preprocess_input\r\n",
        "from keras.models import Model\r\n",
        "import numpy as np\r\n",
        "import os\r\n",
        "from sklearn import preprocessing\r\n",
        "from keras.utils import to_categorical\r\n",
        "from sklearn.ensemble import RandomForestClassifier\r\n",
        "from sklearn.linear_model import LogisticRegression\r\n",
        "from sklearn.svm import SVC\r\n",
        "from sklearn import metrics\r\n",
        "import seaborn as sns\r\n",
        "from matplotlib import pyplot as plt"
      ],
      "execution_count": null,
      "outputs": []
    },
    {
      "cell_type": "code",
      "metadata": {
        "colab": {
          "base_uri": "https://localhost:8080/"
        },
        "id": "k25XyTu8Xueg",
        "outputId": "51b0cb41-2517-48af-e7e8-974f731583fd"
      },
      "source": [
        "!git clone https://github.com/Qbencjusz/10MonkeySpecies.git"
      ],
      "execution_count": null,
      "outputs": [
        {
          "output_type": "stream",
          "text": [
            "Cloning into '10MonkeySpecies'...\n",
            "remote: Enumerating objects: 1297, done.\u001b[K\n",
            "remote: Total 1297 (delta 0), reused 0 (delta 0), pack-reused 1297\u001b[K\n",
            "Receiving objects: 100% (1297/1297), 500.01 MiB | 37.84 MiB/s, done.\n",
            "Resolving deltas: 100% (2/2), done.\n",
            "Checking out files: 100% (1371/1371), done.\n"
          ],
          "name": "stdout"
        }
      ]
    },
    {
      "cell_type": "markdown",
      "metadata": {
        "id": "nQ4aKtA8XvHE"
      },
      "source": [
        "## Preprocessing and feature extraction\r\n",
        "\r\n",
        "Our dataset consists of 1098 monkey images for training set and 272 for validation.\r\n",
        "\r\n",
        "This dataset has high resolution photos in .jpg format. It could be hard to use standard preprocessing methods for feature extraction from it.\r\n",
        "\r\n",
        "\r\n",
        "Firstly, we load our dataset.\r\n",
        "Then, transform all images to numpy arrays and preprocessing them, so they can be used as input to our neural network model. \r\n",
        "\r\n",
        "From now, we want to focus on **transfer learning approach**.\r\n",
        "\r\n",
        "Transfer learning is the process of:\r\n",
        " 1. Taking a network pre-trained on a dataset.\r\n",
        " 2. And utilizing it to recognize image/object categories it was not trained on.\r\n",
        "\r\n",
        "For our problem, we used transfer learning via feature extraction.\r\n",
        "\r\n",
        "To maximize our results, we choosed [VGG16](https://keras.io/api/applications/vgg/#vgg16-function) neural network model, provided by Keras, with [imagenet weights](http://www.image-net.org/).\r\n",
        "\r\n",
        "\r\n",
        "VGG16 will be treat as feature extractor as follows:\r\n",
        "\r\n",
        "1. initialize the model with imagenet weights.\r\n",
        "2. exlude last layer constisting SoftMax function\r\n",
        "3. preprocessed our images from both - training and validation datasets\r\n",
        "4. treat output from network as features, which we use to train and validation in our classificators.\r\n",
        "\r\n",
        "![](https://i.imgur.com/Y0ou5sg.png)\r\n",
        "\r\n",
        "\r\n"
      ]
    },
    {
      "cell_type": "code",
      "metadata": {
        "id": "8mfhA1vabDmm"
      },
      "source": [
        "x_train = []\r\n",
        "y_train = []\r\n",
        "\r\n",
        "train_path = '10MonkeySpecies/monkeys/training'\r\n",
        "\r\n",
        "for label in os.listdir(train_path):\r\n",
        "  for img_path in os.listdir(train_path + '/' + label):\r\n",
        "    img = image.load_img(train_path + '/' + label + '/' + img_path, target_size=(224, 224))\r\n",
        "    x = image.img_to_array(img)\r\n",
        "    x = preprocess_input(x)\r\n",
        "    x_train.append(x)\r\n",
        "    y_train.append(label)\r\n",
        "\r\n",
        "x_train = np.array(x_train)\r\n",
        "y_train = np.array(y_train)"
      ],
      "execution_count": null,
      "outputs": []
    },
    {
      "cell_type": "code",
      "metadata": {
        "colab": {
          "base_uri": "https://localhost:8080/"
        },
        "id": "13GLzWEUrTV0",
        "outputId": "53a38cc4-86b3-429c-f1ab-c971d703c01c"
      },
      "source": [
        "print(x_train.shape)\r\n",
        "print(y_train.shape)"
      ],
      "execution_count": null,
      "outputs": [
        {
          "output_type": "stream",
          "text": [
            "(1098, 224, 224, 3)\n",
            "(1098,)\n"
          ],
          "name": "stdout"
        }
      ]
    },
    {
      "cell_type": "code",
      "metadata": {
        "id": "tzLQrQCPp504"
      },
      "source": [
        "x_test = []\r\n",
        "y_test = []\r\n",
        "\r\n",
        "test_path = '10MonkeySpecies/monkeys/validation'\r\n",
        "\r\n",
        "for label in os.listdir(test_path):\r\n",
        "  for img_path in os.listdir(test_path + '/' + label):\r\n",
        "    img = image.load_img(test_path + '/' + label + '/' + img_path, target_size=(224, 224))\r\n",
        "    x = image.img_to_array(img)\r\n",
        "    x = preprocess_input(x)\r\n",
        "    x_test.append(x)\r\n",
        "    y_test.append(label)\r\n",
        "\r\n",
        "x_test = np.array(x_test)\r\n",
        "y_test = np.array(y_test)"
      ],
      "execution_count": null,
      "outputs": []
    },
    {
      "cell_type": "code",
      "metadata": {
        "colab": {
          "base_uri": "https://localhost:8080/"
        },
        "id": "83TUvzGtrMiz",
        "outputId": "16984507-b49d-4265-fd5a-dc370a0cca0b"
      },
      "source": [
        "print(x_test.shape)\r\n",
        "print(y_test.shape)"
      ],
      "execution_count": null,
      "outputs": [
        {
          "output_type": "stream",
          "text": [
            "(272, 224, 224, 3)\n",
            "(272,)\n"
          ],
          "name": "stdout"
        }
      ]
    },
    {
      "cell_type": "code",
      "metadata": {
        "id": "FcGyZ9ef1J0v"
      },
      "source": [
        "le = preprocessing.LabelEncoder()\r\n",
        "y_train_enc = le.fit_transform(y_train)\r\n",
        "y_test_enc = le.fit_transform(y_test)"
      ],
      "execution_count": null,
      "outputs": []
    },
    {
      "cell_type": "code",
      "metadata": {
        "colab": {
          "base_uri": "https://localhost:8080/"
        },
        "id": "caMQc_60-KoK",
        "outputId": "6f203de1-c97c-4a3e-dcc6-f2f13a6916c5"
      },
      "source": [
        "vgg_model = VGG16(weights='imagenet', include_top=False, input_shape=(224, 224, 3))\r\n",
        "\r\n",
        "for layer in vgg_model.layers:\r\n",
        "  layer.trainable = False\r\n",
        "\r\n",
        "vgg_model.summary()"
      ],
      "execution_count": null,
      "outputs": [
        {
          "output_type": "stream",
          "text": [
            "Model: \"vgg16\"\n",
            "_________________________________________________________________\n",
            "Layer (type)                 Output Shape              Param #   \n",
            "=================================================================\n",
            "input_5 (InputLayer)         [(None, 224, 224, 3)]     0         \n",
            "_________________________________________________________________\n",
            "block1_conv1 (Conv2D)        (None, 224, 224, 64)      1792      \n",
            "_________________________________________________________________\n",
            "block1_conv2 (Conv2D)        (None, 224, 224, 64)      36928     \n",
            "_________________________________________________________________\n",
            "block1_pool (MaxPooling2D)   (None, 112, 112, 64)      0         \n",
            "_________________________________________________________________\n",
            "block2_conv1 (Conv2D)        (None, 112, 112, 128)     73856     \n",
            "_________________________________________________________________\n",
            "block2_conv2 (Conv2D)        (None, 112, 112, 128)     147584    \n",
            "_________________________________________________________________\n",
            "block2_pool (MaxPooling2D)   (None, 56, 56, 128)       0         \n",
            "_________________________________________________________________\n",
            "block3_conv1 (Conv2D)        (None, 56, 56, 256)       295168    \n",
            "_________________________________________________________________\n",
            "block3_conv2 (Conv2D)        (None, 56, 56, 256)       590080    \n",
            "_________________________________________________________________\n",
            "block3_conv3 (Conv2D)        (None, 56, 56, 256)       590080    \n",
            "_________________________________________________________________\n",
            "block3_pool (MaxPooling2D)   (None, 28, 28, 256)       0         \n",
            "_________________________________________________________________\n",
            "block4_conv1 (Conv2D)        (None, 28, 28, 512)       1180160   \n",
            "_________________________________________________________________\n",
            "block4_conv2 (Conv2D)        (None, 28, 28, 512)       2359808   \n",
            "_________________________________________________________________\n",
            "block4_conv3 (Conv2D)        (None, 28, 28, 512)       2359808   \n",
            "_________________________________________________________________\n",
            "block4_pool (MaxPooling2D)   (None, 14, 14, 512)       0         \n",
            "_________________________________________________________________\n",
            "block5_conv1 (Conv2D)        (None, 14, 14, 512)       2359808   \n",
            "_________________________________________________________________\n",
            "block5_conv2 (Conv2D)        (None, 14, 14, 512)       2359808   \n",
            "_________________________________________________________________\n",
            "block5_conv3 (Conv2D)        (None, 14, 14, 512)       2359808   \n",
            "_________________________________________________________________\n",
            "block5_pool (MaxPooling2D)   (None, 7, 7, 512)         0         \n",
            "=================================================================\n",
            "Total params: 14,714,688\n",
            "Trainable params: 0\n",
            "Non-trainable params: 14,714,688\n",
            "_________________________________________________________________\n"
          ],
          "name": "stdout"
        }
      ]
    },
    {
      "cell_type": "code",
      "metadata": {
        "id": "1KIp15eN-dpY"
      },
      "source": [
        "train_features_extractor = vgg_model.predict(x_train)\r\n",
        "train_features = train_features_extractor.reshape(train_features_extractor.shape[0], -1)"
      ],
      "execution_count": null,
      "outputs": []
    },
    {
      "cell_type": "code",
      "metadata": {
        "id": "iVG5V6xhH7tF"
      },
      "source": [
        "test_feature_extractor = vgg_model.predict(x_test)\r\n",
        "test_features = test_feature_extractor.reshape(test_feature_extractor.shape[0], -1)"
      ],
      "execution_count": null,
      "outputs": []
    },
    {
      "cell_type": "code",
      "metadata": {
        "colab": {
          "base_uri": "https://localhost:8080/"
        },
        "id": "UtVShCeLCAJP",
        "outputId": "5907a49c-e462-406e-a0ae-efe1fba48115"
      },
      "source": [
        "print(train_features_extractor.shape)\r\n",
        "print(train_features.shape)"
      ],
      "execution_count": null,
      "outputs": [
        {
          "output_type": "stream",
          "text": [
            "(1098, 7, 7, 512)\n",
            "(1098, 25088)\n"
          ],
          "name": "stdout"
        }
      ]
    },
    {
      "cell_type": "markdown",
      "metadata": {
        "id": "fXtw21j1X1O1"
      },
      "source": [
        "## Image classification\r\n",
        "\r\n",
        "The second part of our solution is dedicated to execute three classification methods, which we learned during Machine Learning Course @ ii.uwr.\r\n",
        "\r\n",
        "We want to consider methods listed below:\r\n",
        " 1. [Random Forest](https://en.wikipedia.org/wiki/Random_forest)\r\n",
        " 2. [Logistic Regression](https://en.wikipedia.org/wiki/Logistic_regression)\r\n",
        " 3. [SVM](https://en.wikipedia.org/wiki/Support-vector_machine).\r\n",
        "\r\n",
        "Steps for all classifiers:\r\n",
        "  1. train classifier\r\n",
        "  2. make a prediction to validation set\r\n",
        "  3. compute accuracy\r\n",
        "  4. vizualize predictions on heatmap\r\n"
      ]
    },
    {
      "cell_type": "markdown",
      "metadata": {
        "id": "XQ7twfyZE0tF"
      },
      "source": [
        "### Random forest\r\n",
        "\r\n",
        "> A random forest is a meta estimator that fits a number of decision tree classifiers on various sub-samples of the dataset and uses averaging to improve the predictive accuracy and control over-fitting. \r\n",
        "[[sklearn]](https://scikit-learn.org/stable/modules/generated/sklearn.ensemble.RandomForestClassifier.html)\r\n",
        "\r\n",
        "This is the only model in our solution, which can be executed as default to multi-class classifition problems, also\r\n",
        "random forest is an ensemble method,logistic regression and svm are linear methods.\r\n",
        "\r\n",
        "Random forest achieved 94% accuracy and execution time was quite low.\r\n",
        "\r\n"
      ]
    },
    {
      "cell_type": "code",
      "metadata": {
        "colab": {
          "base_uri": "https://localhost:8080/"
        },
        "id": "ubsJVHZfE4r4",
        "outputId": "bb5c3729-f9b6-4718-ddb8-a4fe222eab1f"
      },
      "source": [
        "rf = RandomForestClassifier(n_estimators=200, random_state=0)\r\n",
        "rf.fit(train_features, y_train_enc)"
      ],
      "execution_count": null,
      "outputs": [
        {
          "output_type": "execute_result",
          "data": {
            "text/plain": [
              "RandomForestClassifier(bootstrap=True, ccp_alpha=0.0, class_weight=None,\n",
              "                       criterion='gini', max_depth=None, max_features='auto',\n",
              "                       max_leaf_nodes=None, max_samples=None,\n",
              "                       min_impurity_decrease=0.0, min_impurity_split=None,\n",
              "                       min_samples_leaf=1, min_samples_split=2,\n",
              "                       min_weight_fraction_leaf=0.0, n_estimators=200,\n",
              "                       n_jobs=None, oob_score=False, random_state=0, verbose=0,\n",
              "                       warm_start=False)"
            ]
          },
          "metadata": {
            "tags": []
          },
          "execution_count": 12
        }
      ]
    },
    {
      "cell_type": "code",
      "metadata": {
        "id": "h62lCOxyJDLJ"
      },
      "source": [
        "prediction_rf = rf.predict(test_features)"
      ],
      "execution_count": null,
      "outputs": []
    },
    {
      "cell_type": "code",
      "metadata": {
        "colab": {
          "base_uri": "https://localhost:8080/"
        },
        "id": "WEqIKCUdJffJ",
        "outputId": "75fe47a2-6607-41d3-9437-d1d840544eef"
      },
      "source": [
        "print(metrics.accuracy_score(y_test_enc, prediction_rf))"
      ],
      "execution_count": null,
      "outputs": [
        {
          "output_type": "stream",
          "text": [
            "0.9485294117647058\n"
          ],
          "name": "stdout"
        }
      ]
    },
    {
      "cell_type": "code",
      "metadata": {
        "colab": {
          "base_uri": "https://localhost:8080/",
          "height": 287
        },
        "id": "RJWdMkWcJ5Qj",
        "outputId": "d5d47cb2-1753-4e9b-db23-5c94401593ed"
      },
      "source": [
        "cm = metrics.confusion_matrix(y_test_enc, prediction_rf)\r\n",
        "sns.heatmap(cm, annot=True)"
      ],
      "execution_count": null,
      "outputs": [
        {
          "output_type": "execute_result",
          "data": {
            "text/plain": [
              "<matplotlib.axes._subplots.AxesSubplot at 0x7fdc02bad518>"
            ]
          },
          "metadata": {
            "tags": []
          },
          "execution_count": 15
        },
        {
          "output_type": "display_data",
          "data": {
            "image/png": "[encoded data removed]",
            "text/plain": [
              "<Figure size 432x288 with 2 Axes>"
            ]
          },
          "metadata": {
            "tags": [],
            "needs_background": "light"
          }
        }
      ]
    },
    {
      "cell_type": "markdown",
      "metadata": {
        "id": "2424y63lQlax"
      },
      "source": [
        "### Logistic Regression\r\n",
        "\r\n",
        ">Logistic regression is a statistical model that in its basic form uses a logistic function to model a binary dependent variable, although many more complex extensions exist. In regression analysis, logistic regression (or logit regression) is estimating the parameters of a logistic model (a form of binary regression). [[wikipedia]](https://en.wikipedia.org/wiki/Logistic_regression)\r\n",
        "\r\n",
        "Logistic regression in its default version can be used for binary classifications problems. In our case, we got 10 monkey species, so we used **one versus rest** optimization, where a binary problem is fit for each label.\r\n",
        "\r\n",
        "This model is the winner of our mini-competition.\r\n",
        "It's got the same (96%) accuracy as SVM, but computations are exponentially faster.\r\n",
        "\r\n"
      ]
    },
    {
      "cell_type": "code",
      "metadata": {
        "colab": {
          "base_uri": "https://localhost:8080/"
        },
        "id": "oEQ1XE87QtJD",
        "outputId": "0c46c196-a0a5-49db-c304-bb19d6ead727"
      },
      "source": [
        "lr = LogisticRegression(multi_class='ovr', solver='liblinear')\r\n",
        "lr.fit(train_features, y_train_enc)"
      ],
      "execution_count": null,
      "outputs": [
        {
          "output_type": "execute_result",
          "data": {
            "text/plain": [
              "LogisticRegression(C=1.0, class_weight=None, dual=False, fit_intercept=True,\n",
              "                   intercept_scaling=1, l1_ratio=None, max_iter=100,\n",
              "                   multi_class='ovr', n_jobs=None, penalty='l2',\n",
              "                   random_state=None, solver='liblinear', tol=0.0001, verbose=0,\n",
              "                   warm_start=False)"
            ]
          },
          "metadata": {
            "tags": []
          },
          "execution_count": 16
        }
      ]
    },
    {
      "cell_type": "code",
      "metadata": {
        "id": "OJaWFEJLgC8I"
      },
      "source": [
        "prediction_lr = lr.predict(test_features)"
      ],
      "execution_count": null,
      "outputs": []
    },
    {
      "cell_type": "code",
      "metadata": {
        "colab": {
          "base_uri": "https://localhost:8080/"
        },
        "id": "h8FbkRBKgTDh",
        "outputId": "43688817-35b8-49fd-a7ca-1157bc5fab0d"
      },
      "source": [
        "print(metrics.accuracy_score(y_test_enc, prediction_lr))"
      ],
      "execution_count": null,
      "outputs": [
        {
          "output_type": "stream",
          "text": [
            "0.9669117647058824\n"
          ],
          "name": "stdout"
        }
      ]
    },
    {
      "cell_type": "code",
      "metadata": {
        "colab": {
          "base_uri": "https://localhost:8080/",
          "height": 287
        },
        "id": "XLCXiUrTgvi-",
        "outputId": "2b5660cf-2f60-4aa3-e29c-d0169aea54b4"
      },
      "source": [
        "cm = metrics.confusion_matrix(y_test_enc, prediction_lr)\r\n",
        "sns.heatmap(cm, annot=True)"
      ],
      "execution_count": null,
      "outputs": [
        {
          "output_type": "execute_result",
          "data": {
            "text/plain": [
              "<matplotlib.axes._subplots.AxesSubplot at 0x7fdc02af9cf8>"
            ]
          },
          "metadata": {
            "tags": []
          },
          "execution_count": 19
        },
        {
          "output_type": "display_data",
          "data": {
            "image/png": "[encoded data removed]",
            "text/plain": [
              "<Figure size 432x288 with 2 Axes>"
            ]
          },
          "metadata": {
            "tags": [],
            "needs_background": "light"
          }
        }
      ]
    },
    {
      "cell_type": "markdown",
      "metadata": {
        "id": "Bs4mptDuQtgI"
      },
      "source": [
        "###SVM\r\n",
        "\r\n",
        "> More formally, a support-vector machine constructs a hyperplane or set of hyperplanes in a high- or infinite-dimensional space, which can be used for classification, regression, or other tasks like outliers detection. Intuitively, a good separation is achieved by the hyperplane that has the largest distance to the nearest training-data point of any class (so-called functional margin), since in general the larger the margin, the lower the generalization error of the classifier. [[wikipedia]](https://en.wikipedia.org/wiki/Support-vector_machine#Definition)\r\n",
        "\r\n",
        "SVM is also binary classification on its defaults. Sklearn supports multi-class by using one-vs-one. This strategy splits a multi-class classifiaction into one binary classification problem per each pair of classes. That is probably the reason for high execution time.\r\n",
        "\r\n",
        "On the other hand, model achieved 96% accuracy (the same accuracy as logistic regression).\r\n",
        "if we take a look on logistic regression heatmap and SVM heatmap, they misclassify different cases.\r\n",
        "\r\n",
        "\r\n"
      ]
    },
    {
      "cell_type": "code",
      "metadata": {
        "colab": {
          "base_uri": "https://localhost:8080/"
        },
        "id": "DR2_MPlUSQgR",
        "outputId": "2d85fe74-90e5-444a-bd3c-178ef71fd336"
      },
      "source": [
        "svm = SVC(C=1.0, kernel='linear')\r\n",
        "svm.fit(train_features, y_train_enc)"
      ],
      "execution_count": null,
      "outputs": [
        {
          "output_type": "execute_result",
          "data": {
            "text/plain": [
              "SVC(C=1.0, break_ties=False, cache_size=200, class_weight=None, coef0=0.0,\n",
              "    decision_function_shape='ovr', degree=3, gamma='scale', kernel='linear',\n",
              "    max_iter=-1, probability=False, random_state=None, shrinking=True,\n",
              "    tol=0.001, verbose=False)"
            ]
          },
          "metadata": {
            "tags": []
          },
          "execution_count": 20
        }
      ]
    },
    {
      "cell_type": "code",
      "metadata": {
        "id": "MDFBHMTwUgXG"
      },
      "source": [
        "prediction_svm = svm.predict(test_features)"
      ],
      "execution_count": null,
      "outputs": []
    },
    {
      "cell_type": "code",
      "metadata": {
        "colab": {
          "base_uri": "https://localhost:8080/"
        },
        "id": "cM-ldSZJ32Yd",
        "outputId": "9ba10998-b1c8-48a4-8347-3ccabc0ef59e"
      },
      "source": [
        "print(metrics.accuracy_score(y_test_enc, prediction_svm))"
      ],
      "execution_count": null,
      "outputs": [
        {
          "output_type": "stream",
          "text": [
            "0.9669117647058824\n"
          ],
          "name": "stdout"
        }
      ]
    },
    {
      "cell_type": "code",
      "metadata": {
        "colab": {
          "base_uri": "https://localhost:8080/",
          "height": 283
        },
        "id": "A8wMDcM2dFbx",
        "outputId": "af38fa9e-585f-4748-c07c-79d557a8f737"
      },
      "source": [
        "cm = metrics.confusion_matrix(y_test_enc, prediction_svm)\r\n",
        "sns.heatmap(cm, annot=True)"
      ],
      "execution_count": null,
      "outputs": [
        {
          "output_type": "execute_result",
          "data": {
            "text/plain": [
              "<matplotlib.axes._subplots.AxesSubplot at 0x7fdbfa3f1550>"
            ]
          },
          "metadata": {
            "tags": []
          },
          "execution_count": 23
        },
        {
          "output_type": "display_data",
          "data": {
            "image/png": "[encoded data removed]",
            "text/plain": [
              "<Figure size 432x288 with 2 Axes>"
            ]
          },
          "metadata": {
            "tags": [],
            "needs_background": "light"
          }
        }
      ]
    }
  ]
}